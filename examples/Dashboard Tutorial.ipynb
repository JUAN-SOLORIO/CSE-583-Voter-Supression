{
 "cells": [
  {
   "cell_type": "markdown",
   "metadata": {},
   "source": [
    "# Quantifying Voter Suppression in the U.S. - Dashboard\n",
    "### Authors : Andres De La Fuente, Anmol Srivastava, Juan Solorio\n",
    "\n",
    "\n",
    "<img src=\"../voter_suppression_analysis/figures/Presentation_Dashboard.gif\" width=\"820\" height=\"400\" />\n",
    "\n",
    "## Goals for the Dashboard:\n",
    "- draw attention to inhibited turnout \n",
    "- contextualize with trends, contributing factors\n",
    "- provide user-friendly visuals\n",
    "- provide as much information possible, while still easy to digest \n",
    "\n",
    "## Dashboard Layout & Data Displayed \n",
    "\n",
    "The Dashboard is broken down into 3 components\n",
    "* **Turnout By Age**\n",
    "* **Turnout By Demographics**\n",
    "* **Choropleth of %Voted & %Registered**\n",
    "\n",
    "### Turnout - Scatter and Bar Charts\n",
    "The **Turnout** section is composed of a scatter plot and a bar chart. Both **Turnout** Chart sections, contrast *% Voted vs % Registered* in the scatter plot chart to contrast Voter Turnout by individual State. Moreover, the scatter plot circles size is correlated to the *Total Eligiable Voters* in a particular State, to give a sense of the voting population. The Bar chart is set to display a *Count of the # of States with Restrictive ID Laws*. Both the scatter circles and the bars are encoded with a *blue* color to indicate \"No Restrictive Laws\" (0) and *orange* indicating a or some \"Restrictive ID Laws\" (1).  \n",
    "<img src=\"../voter_suppression_analysis/figures/turnout_charts.png\" width=\"800\" height=\"700\" />\n",
    "\n",
    "### Choropleth - %Voted & %Registered Maps\n",
    "The Choropleth maps serve the function to show the *% of Citizens who Voted* compared to *% of Citizens who were Registed to vote*. \n",
    "<img src=\"../voter_suppression_analysis/figures/map_turnout.png\" width=\"500\" height=\"400\" />\n",
    "\n",
    "### Selection Criteria\n",
    "The Dashboard is finally complete by the selection section allowing the user to choose a between different demographics to be displayed on the Turnout Charts as well as a slider to see the difference between election years.\n",
    "<img src=\"../voter_suppression_analysis/figures/selections.png\" width=\"400\" height=\"200\" />\n",
    "\n",
    "## User Interactivity\n",
    "The Dashboard allows the user to make selections on the Election Years and Demographic Groups to be displayed, but it also allows for more degrees of interactvity.\n",
    "\n",
    "### Highlight & Laws Selection\n",
    "The User is able to 'Click, Drag, & Highlight' a section of the scatter plot which can be moved horizontally accross the plot. The bar plot is linked to the scatter plot and will then adjust the Count on the number of States the 'Highlighted' selection is displaying.\n",
    "<img src=\"../voter_suppression_analysis/figures/turnout_interaction.gif\" width=\"400\" height=\"300\" />\n",
    "The bar plot also allows for the User to 'Click and Choose' between the colors and then the scatter plot will adjust to only display the States with this selection.\n",
    "<img src=\"../voter_suppression_analysis/figures/color_selection.png\" width=\"500\" height=\"400\" />\n",
    "\n",
    "### Mouse Hover & Tooltip\n",
    "While hovering the mouse over the scatter plot and map sections of the dashboard, the User can get a summary of voting related information related to the State being hovered.\n",
    "* **Scatter Plot Tooltip Summary**\n",
    "    * State Name\n",
    "    * Total Eligiable Voters\n",
    "    * Number of Registered Voters\n",
    "    * Number of Actual Voters\n",
    "\n",
    "<img src=\"../voter_suppression_analysis/figures/turnout_tooltip.gif\" width=\"400\" height=\"300\" />\n",
    "\n",
    "* **Choropleth Tooltip Summary**\n",
    "    * State Name\n",
    "    * Percent of Voters or Registered Voters (*depending on map*)\n",
    "\n",
    "<img src=\"../voter_suppression_analysis/figures/map_interaction.gif\" width=\"820\" height=\"400\" />"
   ]
  }
 ],
 "metadata": {
  "kernelspec": {
   "display_name": "Python 3",
   "language": "python",
   "name": "python3"
  },
  "language_info": {
   "codemirror_mode": {
    "name": "ipython",
    "version": 3
   },
   "file_extension": ".py",
   "mimetype": "text/x-python",
   "name": "python",
   "nbconvert_exporter": "python",
   "pygments_lexer": "ipython3",
   "version": "3.7.7"
  }
 },
 "nbformat": 4,
 "nbformat_minor": 4
}
